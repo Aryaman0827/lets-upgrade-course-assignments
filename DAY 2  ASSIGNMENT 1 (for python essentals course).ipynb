{
  "nbformat": 4,
  "nbformat_minor": 0,
  "metadata": {
    "colab": {
      "name": "Untitled2.ipynb",
      "provenance": []
    },
    "kernelspec": {
      "name": "python3",
      "display_name": "Python 3"
    }
  },
  "cells": [
    {
      "cell_type": "code",
      "metadata": {
        "id": "qBPHDA7BI_Ix"
      },
      "source": [
        "x = int(input(\"enter the upper value: \"))\r\n",
        "y = int(input(\"enter the lower value: \"))\r\n",
        "while x<y :\r\n",
        "  print(\"enter again\")\r\n",
        "  x = int(input(\"enter the upper value: \"))\r\n",
        "  y = int(input(\"enter the lower value: \"))\r\n",
        "\r\n",
        "\r\n",
        "for i in range(y,x+1):\r\n",
        "  if i>1 :\r\n",
        "    for j in range(2,i):\r\n",
        "      if (i % j) == 0:\r\n",
        "        break\r\n",
        "    else :\r\n",
        "      print(i)   \r\n",
        " \r\n"
      ],
      "execution_count": null,
      "outputs": []
    },
    {
      "cell_type": "code",
      "metadata": {
        "colab": {
          "base_uri": "https://localhost:8080/"
        },
        "id": "CDg627wSND9K",
        "outputId": "84662e03-f808-48b0-bc76-cbaea0aa0b91"
      },
      "source": [
        "x = int(input(\"enter the upper value: \"))\r\n",
        "y = 1\r\n",
        "while x>0 :\r\n",
        "  y=y*x\r\n",
        "  x=x-1\r\n",
        "  \r\n",
        "print(\"the factorial is\", y)  \r\n"
      ],
      "execution_count": null,
      "outputs": [
        {
          "output_type": "stream",
          "text": [
            "enter the upper value: 9\n",
            "the factorial is 362880\n"
          ],
          "name": "stdout"
        }
      ]
    },
    {
      "cell_type": "code",
      "metadata": {
        "colab": {
          "base_uri": "https://localhost:8080/"
        },
        "id": "-cFjfK7xIFmV",
        "outputId": "a99b536b-23d4-4e44-db87-408d4baf78dc"
      },
      "source": [
        "x = int(input(\"enter the value: \"))\r\n",
        "sum=0\r\n",
        "while x>0 :\r\n",
        "  sum=sum+x\r\n",
        "  x=x-1\r\n",
        "\r\n",
        "  \r\n",
        "print(sum)"
      ],
      "execution_count": 8,
      "outputs": [
        {
          "output_type": "stream",
          "text": [
            "enter the value: 10\n",
            "55\n"
          ],
          "name": "stdout"
        }
      ]
    }
  ]
}