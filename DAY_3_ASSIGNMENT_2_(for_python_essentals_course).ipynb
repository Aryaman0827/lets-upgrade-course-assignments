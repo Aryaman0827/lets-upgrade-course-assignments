{
  "nbformat": 4,
  "nbformat_minor": 0,
  "metadata": {
    "colab": {
      "name": "DAY 3  ASSIGNMENT 2  (for python essentals course).ipynb",
      "provenance": []
    },
    "kernelspec": {
      "name": "python3",
      "display_name": "Python 3"
    }
  },
  "cells": [
    {
      "cell_type": "code",
      "metadata": {
        "colab": {
          "base_uri": "https://localhost:8080/"
        },
        "id": "MVMCBUBfZsFt",
        "outputId": "624ffdc8-f971-4f3b-8e59-a276869aad7c"
      },
      "source": [
        "test_list = [\"\", \"AVENGERS\", \"\", \"ARE\", \"UNBEATABLE\", \"\"] \r\n",
        "   \r\n",
        "print (\"Original list is : \" + str(test_list)) \r\n",
        "   \r\n",
        "while(\"\" in test_list) : \r\n",
        "    test_list.remove(\"\") \r\n",
        "      \r\n",
        "print (\"NEW list is : \" + str(test_list))"
      ],
      "execution_count": 28,
      "outputs": [
        {
          "output_type": "stream",
          "text": [
            "Original list is : ['', 'AVENGERS', '', 'ARE', 'UNBEATABLE', '']\n",
            "NEW list is : ['AVENGERS', 'ARE', 'UNBEATABLE']\n"
          ],
          "name": "stdout"
        }
      ]
    },
    {
      "cell_type": "code",
      "metadata": {
        "colab": {
          "base_uri": "https://localhost:8080/"
        },
        "id": "NpzrtnBebzd9",
        "outputId": "ae9ba9c4-6fd6-4b05-fa16-341e5da0bf32"
      },
      "source": [
        "s = \"acer laptops laptops are good good\"\r\n",
        "l = s.split() \r\n",
        "k = [] \r\n",
        "for i in l: \r\n",
        "    if (s.count(i)>1 and (i not in k)or s.count(i)==1): \r\n",
        "        k.append(i) \r\n",
        "print(' '.join(k))"
      ],
      "execution_count": 29,
      "outputs": [
        {
          "output_type": "stream",
          "text": [
            "acer laptops are good\n"
          ],
          "name": "stdout"
        }
      ]
    },
    {
      "cell_type": "code",
      "metadata": {
        "colab": {
          "base_uri": "https://localhost:8080/"
        },
        "id": "2PZCe5Q2A0eZ",
        "outputId": "e67856e6-448a-4ad7-a793-e82771fbbbcf"
      },
      "source": [
        "name = \"NEYMAR DA SILVA SANTOS JUNIOR\"\r\n",
        "b = input(\"Enter the character to be seached: \")\r\n",
        "c = name.count(b)\r\n",
        "print(\"no. of times chr. present: \", c)\r\n",
        "d = 0\r\n",
        "for i in range (len(name)):\r\n",
        "  a = name.find(b, d)\r\n",
        "  if a==-1 :\r\n",
        "    break\r\n",
        "  else:\r\n",
        "      print(\"psition found at: \",a) \r\n",
        "      d=a+1"
      ],
      "execution_count": 27,
      "outputs": [
        {
          "output_type": "stream",
          "text": [
            "Enter the character to be seached: A\n",
            "no. of times chr. present:  4\n",
            "psition found at:  4\n",
            "psition found at:  8\n",
            "psition found at:  14\n",
            "psition found at:  17\n"
          ],
          "name": "stdout"
        }
      ]
    }
  ]
}