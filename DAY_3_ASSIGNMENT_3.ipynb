{
  "nbformat": 4,
  "nbformat_minor": 0,
  "metadata": {
    "colab": {
      "name": "DAY 3 ASSIGNMENT 3",
      "provenance": []
    },
    "kernelspec": {
      "name": "python3",
      "display_name": "Python 3"
    }
  },
  "cells": [
    {
      "cell_type": "code",
      "metadata": {
        "id": "z9VlpCKC8Wkb",
        "outputId": "fb7a0eca-fe45-4965-9c31-9414403a7a40",
        "colab": {
          "base_uri": "https://localhost:8080/"
        }
      },
      "source": [
        "class sum() :\r\n",
        "  def __init__(self,a,b):\r\n",
        "        self.a=a\r\n",
        "        self.b=b\r\n",
        "  def add(self):\r\n",
        "        return self.a+self.b\r\n",
        "\r\n",
        "a=int(input(\"enter the value:  \"))\r\n",
        "b=int(input(\"enter another value:  \"))\r\n",
        "\r\n",
        "obj=sum(a, b)\r\n",
        "print(\"sum is: \" ,obj.add())\r\n",
        "\r\n",
        "  "
      ],
      "execution_count": 16,
      "outputs": [
        {
          "output_type": "stream",
          "text": [
            "enter the value:  6\n",
            "enter another value:  8\n",
            "sum is:  14\n"
          ],
          "name": "stdout"
        }
      ]
    },
    {
      "cell_type": "code",
      "metadata": {
        "colab": {
          "base_uri": "https://localhost:8080/"
        },
        "id": "fFcMHsVD0PXD",
        "outputId": "6950f700-fe13-4767-d6b0-da5306169463"
      },
      "source": [
        "def swap ():\r\n",
        "    global a, b\r\n",
        "    a=a+b\r\n",
        "    b=a-b\r\n",
        "    a=a-b\r\n",
        "  \r\n",
        "a=int(input(\"enter the value:  \"))\r\n",
        "b=int(input(\"enter another value:  \"))\r\n",
        "print(\"values before swap:\", a, b)\r\n",
        "\r\n",
        "\r\n",
        "swap()\r\n",
        "\r\n",
        "print(\"values after swap:\",a ,b)"
      ],
      "execution_count": 14,
      "outputs": [
        {
          "output_type": "stream",
          "text": [
            "enter the value:  7\n",
            "enter another value:  8\n",
            "values before swap: 7 8\n",
            "values after swap: 8 7\n"
          ],
          "name": "stdout"
        }
      ]
    }
  ]
}