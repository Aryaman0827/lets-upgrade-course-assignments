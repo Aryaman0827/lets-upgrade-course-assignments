{
  "nbformat": 4,
  "nbformat_minor": 0,
  "metadata": {
    "colab": {
      "name": "DAY 4 ASSIGNMENT3.ipynb",
      "provenance": []
    },
    "kernelspec": {
      "name": "python3",
      "display_name": "Python 3"
    }
  },
  "cells": [
    {
      "cell_type": "code",
      "metadata": {
        "id": "6XK5E2vMJjyp"
      },
      "source": [
        "filenames = ['file1.txt', 'file2.txt'] \r\n",
        "   \r\n",
        "with open('file3.txt', 'w') as outfile: \r\n",
        "  \r\n",
        "     \r\n",
        "    for names in filenames: \r\n",
        " \r\n",
        "        with open(names) as infile:  \r\n",
        "  \r\n",
        "            outfile.write(infile.read())   \r\n",
        "        outfile.write(\"\\n\") "
      ],
      "execution_count": null,
      "outputs": []
    },
    {
      "cell_type": "code",
      "metadata": {
        "colab": {
          "base_uri": "https://localhost:8080/"
        },
        "id": "L4JbU0hKHvPR",
        "outputId": "7afa29d4-eb4c-4e17-e624-8abf296979ae"
      },
      "source": [
        "list1 = [1,2,3,4,5]\r\n",
        "list2 = [\"a\", \"b\", \"c\", \"d\", \"e\"]\r\n",
        "list3 = dict(zip(list1, list2))\r\n",
        "print(\"the new dictionary is\", list3)"
      ],
      "execution_count": 5,
      "outputs": [
        {
          "output_type": "stream",
          "text": [
            "the new dictionary is {1: 'a', 2: 'b', 3: 'c', 4: 'd', 5: 'e'}\n"
          ],
          "name": "stdout"
        }
      ]
    }
  ]
}