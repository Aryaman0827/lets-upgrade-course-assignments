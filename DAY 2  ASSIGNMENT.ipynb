{
  "nbformat": 4,
  "nbformat_minor": 0,
  "metadata": {
    "colab": {
      "name": "Untitled1.ipynb",
      "provenance": []
    },
    "kernelspec": {
      "name": "python3",
      "display_name": "Python 3"
    }
  },
  "cells": [
    {
      "cell_type": "code",
      "metadata": {
        "colab": {
          "base_uri": "https://localhost:8080/"
        },
        "id": "rBhM0kG0_ogr",
        "outputId": "85edf118-9df0-47a7-f113-d4668da836b8"
      },
      "source": [
        "LIST1 = [12,3,55,6,144]\r\n",
        "listeven =[]\r\n",
        "for i in LIST1:\r\n",
        "  if i%2==0 :\r\n",
        "    listeven.append(i)\r\n",
        "    \r\n",
        "\r\n",
        "print(listeven)    \r\n",
        "\r\n"
      ],
      "execution_count": 11,
      "outputs": [
        {
          "output_type": "stream",
          "text": [
            "[12, 6, 144]\n"
          ],
          "name": "stdout"
        }
      ]
    },
    {
      "cell_type": "code",
      "metadata": {
        "colab": {
          "base_uri": "https://localhost:8080/"
        },
        "id": "14YZyQD9EY4m",
        "outputId": "66b5a8d4-9363-49c8-b330-8d27aa1e42d8"
      },
      "source": [
        "LIST1 = [2, 10, 9, 37]\r\n",
        "listeven =[]\r\n",
        "for i in LIST1:\r\n",
        "  if i%2==0 :\r\n",
        "    listeven.append(i)\r\n",
        "    \r\n",
        "\r\n",
        "print(listeven)"
      ],
      "execution_count": 12,
      "outputs": [
        {
          "output_type": "stream",
          "text": [
            "[2, 10]\n"
          ],
          "name": "stdout"
        }
      ]
    },
    {
      "cell_type": "code",
      "metadata": {
        "colab": {
          "base_uri": "https://localhost:8080/"
        },
        "id": "5XMIu1SREmZK",
        "outputId": "2bd56075-4d31-4db4-b178-20b1b94d5e89"
      },
      "source": [
        "n = int(input(\"enter the value\"))\r\n",
        "for i in range(1,n+1):\r\n",
        "  print(\" \" * (n-i), str(i) * i )"
      ],
      "execution_count": 21,
      "outputs": [
        {
          "output_type": "stream",
          "text": [
            "enter the value5\n",
            "     1\n",
            "    22\n",
            "   333\n",
            "  4444\n",
            " 55555\n"
          ],
          "name": "stdout"
        }
      ]
    }
  ]
}